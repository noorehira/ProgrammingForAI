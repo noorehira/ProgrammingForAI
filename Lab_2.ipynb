{
  "nbformat": 4,
  "nbformat_minor": 0,
  "metadata": {
    "colab": {
      "provenance": [],
      "include_colab_link": true
    },
    "kernelspec": {
      "name": "python3",
      "display_name": "Python 3"
    },
    "language_info": {
      "name": "python"
    }
  },
  "cells": [
    {
      "cell_type": "markdown",
      "metadata": {
        "id": "view-in-github",
        "colab_type": "text"
      },
      "source": [
        "<a href=\"https://colab.research.google.com/github/noorehira/ProgrammingForAI/blob/main/Lab_2.ipynb\" target=\"_parent\"><img src=\"https://colab.research.google.com/assets/colab-badge.svg\" alt=\"Open In Colab\"/></a>"
      ]
    },
    {
      "cell_type": "markdown",
      "source": [
        "# **Python Range Function**"
      ],
      "metadata": {
        "id": "p5RjvmmtNXIQ"
      }
    },
    {
      "cell_type": "code",
      "source": [
        "# Example 1: Using range() with one argument\n",
        "# This will create a range from 0 to 9 (10 elements in total)\n",
        "for i in range(10):\n",
        "    print(i)  # Output: 0, 1, 2, 3, 4, 5, 6, 7, 8, 9\n",
        "\n",
        "# Example 2: Using range() with two arguments\n",
        "# This will create a range from 2 to 9 (7 elements in total)\n",
        "for i in range(2, 10):\n",
        "    print(i)  # Output: 2, 3, 4, 5, 6, 7, 8, 9\n",
        "\n",
        "# Example 3: Using range() with three arguments\n",
        "# This will create a range from 2 to 19, with a step of 3 (7 elements in total)\n",
        "for i in range(2, 20, 3):\n",
        "    print(i)  # Output: 2, 5, 8, 11, 14, 17\n",
        "\n",
        "# Example 4: Using range() to create a list of numbers\n",
        "# This will create a list of numbers from 2 to 19, with a step of 3 (7 elements in total)\n",
        "my_list = list(range(2, 20, 3))\n",
        "print(my_list)  # Output: [2, 5, 8, 11, 14, 17]\n",
        "\n",
        "# Example 5: Using range() to iterate over the indices of a list\n",
        "my_list = [10, 20, 30, 40, 50]\n",
        "for i in range(len(my_list)):\n",
        "    print(f\"Index {i}: {my_list[i]}\")  # Output: Index 0: 10, Index 1: 20, Index 2: 30, Index 3: 40, Index 4: 50\n"
      ],
      "metadata": {
        "id": "CaEsjiEUNUYv",
        "colab": {
          "base_uri": "https://localhost:8080/"
        },
        "outputId": "834fffa8-4b2d-4c84-d678-1d8148c2514b"
      },
      "execution_count": 1,
      "outputs": [
        {
          "output_type": "stream",
          "name": "stdout",
          "text": [
            "0\n",
            "1\n",
            "2\n",
            "3\n",
            "4\n",
            "5\n",
            "6\n",
            "7\n",
            "8\n",
            "9\n",
            "2\n",
            "3\n",
            "4\n",
            "5\n",
            "6\n",
            "7\n",
            "8\n",
            "9\n",
            "2\n",
            "5\n",
            "8\n",
            "11\n",
            "14\n",
            "17\n",
            "[2, 5, 8, 11, 14, 17]\n",
            "Index 0: 10\n",
            "Index 1: 20\n",
            "Index 2: 30\n",
            "Index 3: 40\n",
            "Index 4: 50\n"
          ]
        }
      ]
    },
    {
      "cell_type": "markdown",
      "source": [
        "# **Python Lists**"
      ],
      "metadata": {
        "id": "uy9Cu1j79Q2b"
      }
    },
    {
      "cell_type": "code",
      "source": [
        "# Creating a list with square brackets\n",
        "list_a = [1, 2, 3, 4, 5]\n",
        "\n",
        "# Creating an empty list\n",
        "empty_list = []\n",
        "\n",
        "\n",
        "\n",
        "# Accessing elements by index\n",
        "print(list_a[0])  # 1\n",
        "\n",
        "# Accessing the last element using negative index\n",
        "print(list_a[-1])  # 5\n",
        "\n",
        "# Accessing a range of elements\n",
        "print(list_a[1:4])  # [2, 3, 4]\n",
        "\n",
        "\n",
        "\n",
        "# Modifying an element\n",
        "list_a[2] = 10\n",
        "print(list_a)  # [1, 2, 10, 4, 5]\n",
        "\n",
        "# Modifying multiple elements using slicing\n",
        "list_a[1:3] = [20, 30]\n",
        "print(list_a)  # [1, 20, 30, 4, 5]\n",
        "\n",
        "\n",
        "# Appending a single element\n",
        "list_a.append(6)\n",
        "print(list_a)  # [1, 20, 30, 4, 5, 6]\n",
        "\n",
        "# Extending with another list\n",
        "list_a.extend([7, 8, 9])\n",
        "print(list_a)  # [1, 20, 30, 4, 5, 6, 7, 8, 9]\n",
        "\n",
        "\n",
        "\n",
        "# Inserting an element at a specific position\n",
        "list_a.insert(2, 100)\n",
        "print(list_a)  # [1, 20, 100, 30, 4, 5, 6, 7, 8, 9]\n",
        "\n",
        "# Removing an element by value\n",
        "list_a.remove(100)\n",
        "print(list_a)  # [1, 20, 30, 4, 5, 6, 7, 8, 9]\n",
        "\n",
        "# Removing an element by index\n",
        "del list_a[2]\n",
        "print(list_a)  # [1, 20, 4, 5, 6, 7, 8, 9]\n",
        "\n",
        "\n",
        "\n",
        "# Sorting a list\n",
        "list_a.sort()\n",
        "print(list_a)  # [1, 4, 5, 6, 7, 8, 9, 20]\n",
        "\n",
        "# Reversing a list\n",
        "list_a.reverse()\n",
        "print(list_a)  # [20, 9, 8, 7, 6, 5, 4, 1]\n"
      ],
      "metadata": {
        "id": "VQc13HD7NmXe",
        "colab": {
          "base_uri": "https://localhost:8080/"
        },
        "outputId": "a128c777-7666-48e4-c409-3feb342ed085"
      },
      "execution_count": 2,
      "outputs": [
        {
          "output_type": "stream",
          "name": "stdout",
          "text": [
            "1\n",
            "5\n",
            "[2, 3, 4]\n",
            "[1, 2, 10, 4, 5]\n",
            "[1, 20, 30, 4, 5]\n",
            "[1, 20, 30, 4, 5, 6]\n",
            "[1, 20, 30, 4, 5, 6, 7, 8, 9]\n",
            "[1, 20, 100, 30, 4, 5, 6, 7, 8, 9]\n",
            "[1, 20, 30, 4, 5, 6, 7, 8, 9]\n",
            "[1, 20, 4, 5, 6, 7, 8, 9]\n",
            "[1, 4, 5, 6, 7, 8, 9, 20]\n",
            "[20, 9, 8, 7, 6, 5, 4, 1]\n"
          ]
        }
      ]
    },
    {
      "cell_type": "code",
      "source": [
        "# List of filenames in a folder\n",
        "files = [\"document.txt\", \"presentation.pptx\", \"photo.jpg\", \"data.csv\"]\n",
        "\n",
        "# List of employees\n",
        "employees = [\"Alice\", \"Bob\", \"Charlie\", \"Diana\"]\n",
        "\n",
        "# List of emails in the inbox\n",
        "inbox = [\n",
        "    {\"from\": \"john@example.com\", \"subject\": \"Meeting Reminder\", \"date\": \"2024-09-11\"},\n",
        "    {\"from\": \"jane@example.com\", \"subject\": \"Project Update\", \"date\": \"2024-09-10\"},\n",
        "    {\"from\": \"info@newsletter.com\", \"subject\": \"Monthly Newsletter\", \"date\": \"2024-09-09\"},\n",
        "]\n",
        "\n",
        "print(files)\n",
        "print(employees)\n",
        "print(inbox)"
      ],
      "metadata": {
        "colab": {
          "base_uri": "https://localhost:8080/"
        },
        "id": "sdtpKaxB8LPZ",
        "outputId": "a9f55085-dc31-42f6-c1fb-869c272a004f"
      },
      "execution_count": null,
      "outputs": [
        {
          "output_type": "stream",
          "name": "stdout",
          "text": [
            "['document.txt', 'presentation.pptx', 'photo.jpg', 'data.csv']\n",
            "['Alice', 'Bob', 'Charlie', 'Diana']\n",
            "[{'from': 'john@example.com', 'subject': 'Meeting Reminder', 'date': '2024-09-11'}, {'from': 'jane@example.com', 'subject': 'Project Update', 'date': '2024-09-10'}, {'from': 'info@newsletter.com', 'subject': 'Monthly Newsletter', 'date': '2024-09-09'}]\n"
          ]
        }
      ]
    },
    {
      "cell_type": "markdown",
      "source": [
        "# **List Operations (indexing, slicing, concatenation, repetition, and membership testing).**"
      ],
      "metadata": {
        "id": "WgYQnadY9cR6"
      }
    },
    {
      "cell_type": "code",
      "source": [
        "# A three-item list\n",
        "my_list = [10, 20, 30]\n",
        "\n",
        "# Access the first element (index 0)\n",
        "first_item = my_list[0]\n",
        "print(first_item)  # Output: 10\n",
        "\n",
        "# Slice from index 0 to 2 (not inclusive of 2)\n",
        "sub_list = my_list[0:2]\n",
        "print(sub_list)  # Output: [10, 20]\n",
        "\n",
        "# Concatenate two lists\n",
        "new_list = my_list + [40, 50]\n",
        "print(new_list)  # Output: [10, 20, 30, 40, 50]\n",
        "\n",
        "# Repeat the list three times\n",
        "repeated_list = my_list * 3\n",
        "print(repeated_list)  # Output: [10, 20, 30, 10, 20, 30, 10, 20, 30]\n",
        "\n",
        "# Check if 20 is in the list\n",
        "is_in_list = 20 in my_list\n",
        "print(is_in_list)  # Output: True\n",
        "\n",
        "# Get the length of the list\n",
        "length = len(my_list)\n",
        "print(length)  # Output: 3\n",
        "\n",
        "# Minimum value in the list\n",
        "min_value = min(my_list)\n",
        "print(min_value)  # Output: 10\n",
        "\n",
        "# Maximum value in the list\n",
        "max_value = max(my_list)\n",
        "print(max_value)  # Output: 30\n",
        "\n",
        "# Iterating over the list\n",
        "for item in my_list:\n",
        "    print(item)\n",
        "# Output:\n",
        "# 10\n",
        "# 20\n",
        "# 30"
      ],
      "metadata": {
        "colab": {
          "base_uri": "https://localhost:8080/"
        },
        "id": "NOWxKk4l9cuq",
        "outputId": "9441ef7c-9605-4ea3-bf52-bb346f4c9572"
      },
      "execution_count": null,
      "outputs": [
        {
          "output_type": "stream",
          "name": "stdout",
          "text": [
            "10\n",
            "[10, 20]\n",
            "[10, 20, 30, 40, 50]\n",
            "[10, 20, 30, 10, 20, 30, 10, 20, 30]\n",
            "True\n",
            "3\n",
            "10\n",
            "30\n",
            "10\n",
            "20\n",
            "30\n"
          ]
        }
      ]
    },
    {
      "cell_type": "markdown",
      "source": [
        "# **List Nesting**"
      ],
      "metadata": {
        "id": "BMqGzKZmCm69"
      }
    },
    {
      "cell_type": "code",
      "source": [
        "# A list containing other lists\n",
        "nested_list = [[1, 2, 3], [4, 5, 6], [7, 8, 9]]\n",
        "\n",
        "print(nested_list)\n",
        "# Output: [[1, 2, 3], [4, 5, 6], [7, 8, 9]]\n",
        "\n",
        "\n",
        "# Accessing the first sublist\n",
        "first_sublist = nested_list[0]\n",
        "print(first_sublist)\n",
        "# Output: [1, 2, 3]\n",
        "\n",
        "# Accessing the first element of the first sublist\n",
        "element = nested_list[0][0]\n",
        "print(element)\n",
        "# Output: 1\n",
        "\n",
        "\n",
        "# Changing the value of an element\n",
        "nested_list[1][2] = 60\n",
        "print(nested_list)\n",
        "# Output: [[1, 2, 3], [4, 5, 60], [7, 8, 9]]\n",
        "\n",
        "\n",
        "# A deeply nested list\n",
        "deeply_nested_list = [      [ [[1, 2], [3, 4]], [  [5, 6], [7, 8]] ]     ]\n",
        "\n",
        "print(deeply_nested_list)\n",
        "# Output: [[[[1, 2], [3, 4]], [[5, 6], [7, 8]]]]\n",
        "\n",
        "# Accessing a deeply nested element\n",
        "deep_element = deeply_nested_list[0][1][0][1]\n",
        "print(deep_element)\n",
        "# Output: 6\n",
        "\n",
        "\n",
        "# Iterating through a nested list\n",
        "for sublist in nested_list:\n",
        "    for item in sublist:\n",
        "        print(item, end=\" \")\n",
        "    print()\n",
        "# Output:\n",
        "# 1 2 3\n",
        "# 4 5 60\n",
        "# 7 8 9\n",
        "\n"
      ],
      "metadata": {
        "colab": {
          "base_uri": "https://localhost:8080/"
        },
        "id": "My_ZCaM0CoYE",
        "outputId": "9f181fb6-dd0d-4b70-e3bc-61dd953bab68"
      },
      "execution_count": null,
      "outputs": [
        {
          "output_type": "stream",
          "name": "stdout",
          "text": [
            "[[1, 2, 3], [4, 5, 6], [7, 8, 9]]\n",
            "[1, 2, 3]\n",
            "1\n",
            "[[1, 2, 3], [4, 5, 60], [7, 8, 9]]\n",
            "[[[[1, 2], [3, 4]], [[5, 6], [7, 8]]]]\n",
            "2\n",
            "1 2 3 \n",
            "4 5 60 \n",
            "7 8 9 \n"
          ]
        }
      ]
    },
    {
      "cell_type": "markdown",
      "source": [
        "# **List Comprehension**"
      ],
      "metadata": {
        "id": "ZVRiarcGIlLn"
      }
    },
    {
      "cell_type": "code",
      "source": [
        "#simple list comprehension\n",
        "squares = [x ** 2 for x in range(10)]\n",
        "print(squares)  # Output: [0, 1, 4, 9, 16, 25, 36, 49, 64, 81]\n",
        "\n",
        "\n",
        "#With condition\n",
        "even_squares = [x ** 2 for x in range(10) if x % 2 == 0]\n",
        "print(even_squares)  # Output: [0, 4, 16, 36, 64]\n",
        "\n",
        "\n",
        "#Nested List Comprehension\n",
        "matrix = [\n",
        "    [1, 2, 3],\n",
        "    [4, 5, 6],\n",
        "    [7, 8, 9]\n",
        "]\n",
        "flat_list = [elem for row in matrix for elem in row]\n",
        "print(flat_list)  # Output: [1, 2, 3, 4, 5, 6, 7, 8, 9]\n",
        "\n",
        "\n",
        "#Applying a Function\n",
        "words = [\"hello\", \"world\", \"python\"]\n",
        "uppercase_words = [word.upper() for word in words]\n",
        "print(uppercase_words)  # Output: ['HELLO', 'WORLD', 'PYTHON']\n",
        "\n",
        "\n",
        "#With multiple conditions\n",
        "divisible_by_2_and_3 = [x for x in range(21) if x % 2 == 0 and x % 3 == 0]\n",
        "print(divisible_by_2_and_3)  # Output: [0, 6, 12, 18]\n",
        "\n",
        "#Nested List Comprehension\n",
        "matrix = [\n",
        "    [1, 2, 3],\n",
        "    [4, 5, 6],\n",
        "    [7, 8, 9]\n",
        "]\n",
        "flat_list = [[elem,elem*4] for row in matrix for elem in row]\n",
        "print(flat_list)  # Output: [1, 2, 3, 4, 5, 6, 7, 8, 9]"
      ],
      "metadata": {
        "colab": {
          "base_uri": "https://localhost:8080/"
        },
        "id": "zzOimMnQIn_v",
        "outputId": "cdf834a8-4cbb-4dc7-aa6a-0fca8787bb6f"
      },
      "execution_count": null,
      "outputs": [
        {
          "output_type": "stream",
          "name": "stdout",
          "text": [
            "[0, 1, 4, 9, 16, 25, 36, 49, 64, 81]\n",
            "[0, 4, 16, 36, 64]\n",
            "[1, 2, 3, 4, 5, 6, 7, 8, 9]\n",
            "['HELLO', 'WORLD', 'PYTHON']\n",
            "[0, 6, 12, 18]\n",
            "[[1, 4], [2, 8], [3, 12], [4, 16], [5, 20], [6, 24], [7, 28], [8, 32], [9, 36]]\n"
          ]
        }
      ]
    },
    {
      "cell_type": "markdown",
      "source": [
        "# **Python Dictionary**"
      ],
      "metadata": {
        "id": "qOWMXtOEL-wg"
      }
    },
    {
      "cell_type": "code",
      "source": [
        "# Creating a dictionary\n",
        "my_dict = {\n",
        "    \"name\": \"Alice\",\n",
        "    \"age\": 30,\n",
        "    \"city\": \"New York\"\n",
        "}\n",
        "\n",
        "\n",
        "# Accessing values\n",
        "print(my_dict[\"name\"])  # Output: Alice\n",
        "print(my_dict[\"age\"])   # Output: 30\n",
        "\n",
        "\n",
        "# Adding a new key-value pair\n",
        "my_dict[\"email\"] = \"alice@example.com\"\n",
        "\n",
        "# Updating an existing key-value pair\n",
        "my_dict[\"age\"] = 31\n",
        "\n",
        "print(my_dict)\n",
        "# Output: {'name': 'Alice', 'age': 31, 'city': 'New York', 'email': 'alice@example.com'}\n",
        "\n",
        "\n",
        "\n",
        "# Removing an entry using del\n",
        "del my_dict[\"city\"]\n",
        "\n",
        "# Removing an entry using pop\n",
        "email = my_dict.pop(\"email\")\n",
        "\n",
        "print(my_dict)\n",
        "# Output: {'name': 'Alice', 'age': 31}\n",
        "\n",
        "print(email)\n",
        "# Output: alice@example.com\n",
        "\n",
        "\n",
        "# Iterating through keys\n",
        "for key in my_dict:\n",
        "    print(key)\n",
        "# Output:\n",
        "# name\n",
        "# age\n",
        "\n",
        "# Iterating through values\n",
        "for value in my_dict.values():\n",
        "    print(value)\n",
        "# Output:\n",
        "# Alice\n",
        "# 31\n",
        "\n",
        "# Iterating through key-value pairs\n",
        "for key, value in my_dict.items():\n",
        "    print(f\"{key}: {value}\")\n",
        "# Output:\n",
        "# name: Alice\n",
        "# age: 31"
      ],
      "metadata": {
        "colab": {
          "base_uri": "https://localhost:8080/"
        },
        "id": "IVkLrY62L9IR",
        "outputId": "6046a413-4efd-41c9-d503-22633dffce85"
      },
      "execution_count": null,
      "outputs": [
        {
          "output_type": "stream",
          "name": "stdout",
          "text": [
            "Alice\n",
            "30\n",
            "{'name': 'Alice', 'age': 31, 'city': 'New York', 'email': 'alice@example.com'}\n",
            "{'name': 'Alice', 'age': 31}\n",
            "alice@example.com\n",
            "name\n",
            "age\n",
            "Alice\n",
            "31\n",
            "name: Alice\n",
            "age: 31\n"
          ]
        }
      ]
    },
    {
      "cell_type": "markdown",
      "source": [
        "# **Dictionary Nesting**"
      ],
      "metadata": {
        "id": "kvV726eTI-5S"
      }
    },
    {
      "cell_type": "code",
      "source": [
        "# Simple nested dictionary\n",
        "person = {\n",
        "    \"name\": \"Alice\",\n",
        "    \"age\": 30,\n",
        "    \"address\": {\n",
        "        \"street\": \"123 Main St\",\n",
        "        \"city\": \"New York\",\n",
        "        \"zipcode\": \"10001\"\n",
        "    }\n",
        "}\n",
        "\n",
        "print(person)\n",
        "\n",
        "\n",
        "# Dictionary containing a list of dictionaries\n",
        "employees = {\n",
        "    \"department\": \"Engineering\",\n",
        "    \"employees\": [\n",
        "        {\"name\": \"Alice\", \"role\": \"Engineer\", \"id\": 1},\n",
        "        {\"name\": \"Bob\", \"role\": \"Senior Engineer\", \"id\": 2},\n",
        "        {\"name\": \"Charlie\", \"role\": \"Intern\", \"id\": 3}\n",
        "    ]\n",
        "}\n",
        "\n",
        "print(employees)\n",
        "\n",
        "print(employees[\"employees\"][1][\"name\"])  # Output: Bob\n",
        "\n"
      ],
      "metadata": {
        "colab": {
          "base_uri": "https://localhost:8080/"
        },
        "id": "3nEQjIllJCdy",
        "outputId": "98eb9a6b-32d0-4072-f23a-36a575ecc6ef"
      },
      "execution_count": null,
      "outputs": [
        {
          "output_type": "stream",
          "name": "stdout",
          "text": [
            "{'name': 'Alice', 'age': 30, 'address': {'street': '123 Main St', 'city': 'New York', 'zipcode': '10001'}}\n",
            "{'department': 'Engineering', 'employees': [{'name': 'Alice', 'role': 'Engineer', 'id': 1}, {'name': 'Bob', 'role': 'Senior Engineer', 'id': 2}, {'name': 'Charlie', 'role': 'Intern', 'id': 3}]}\n",
            "Bob\n"
          ]
        }
      ]
    },
    {
      "cell_type": "markdown",
      "source": [
        "# **Dictionary Comprehension**"
      ],
      "metadata": {
        "id": "xtqlG0am_EOU"
      }
    },
    {
      "cell_type": "code",
      "source": [
        "# Creating a dictionary with numbers as keys and their squares as values\n",
        "squares = {x: x**2 for x in range(5)}\n",
        "print(squares)\n",
        "\n",
        "\n",
        "# Creating a dictionary with even numbers as keys and their squares as values\n",
        "even_squares = {x: x**2 for x in range(10) if x % 2 == 0}\n",
        "print(even_squares)\n",
        "\n",
        "\n",
        "# Creating a nested dictionary with squares and cubes of numbers\n",
        "nested_dict = {x: {'square': x**2, 'cube': x**3} for x in range(3)}\n",
        "print(nested_dict)"
      ],
      "metadata": {
        "colab": {
          "base_uri": "https://localhost:8080/"
        },
        "id": "u8b4NI-s_I1t",
        "outputId": "a992fac0-b7e4-461d-a3f2-cd2fba874136",
        "collapsed": true
      },
      "execution_count": null,
      "outputs": [
        {
          "output_type": "stream",
          "name": "stdout",
          "text": [
            "{0: 0, 1: 1, 2: 4, 3: 9, 4: 16}\n",
            "{0: 0, 2: 4, 4: 16, 6: 36, 8: 64}\n",
            "{0: {'square': 0, 'cube': 0}, 1: {'square': 1, 'cube': 1}, 2: {'square': 4, 'cube': 8}}\n"
          ]
        }
      ]
    },
    {
      "cell_type": "code",
      "source": [
        "\n",
        "arr=[]\n",
        "rows, cols=3,1\n",
        "while True:\n",
        "    col = []\n",
        "    id=input(\"Enter student ID:\")\n",
        "    if id==\"stop\":\n",
        "        break\n",
        "    name=input(\"Enter name:\")\n",
        "    city=input(\"Enter residential city name:\")\n",
        "    for j in range(cols):\n",
        "        col.append(id)\n",
        "        col.append(name)\n",
        "        col.append(city)\n",
        "    arr.append(col)\n",
        "print(arr)\n",
        "my_dict = {}\n",
        "for i in range(len(arr)):\n",
        "    my_dict[arr[i][0]] = [arr[i][1],arr[i][2]]\n",
        "print(my_dict)\n"
      ],
      "metadata": {
        "colab": {
          "base_uri": "https://localhost:8080/"
        },
        "id": "70jaDguXNod2",
        "outputId": "acaa7d40-9708-4b8f-8615-d66942c60d6d"
      },
      "execution_count": 16,
      "outputs": [
        {
          "output_type": "stream",
          "name": "stdout",
          "text": [
            "Enter student ID:1\n",
            "Enter name:noor\n",
            "Enter residential city name:isl\n",
            "Enter student ID:2\n",
            "Enter name:hira\n",
            "Enter residential city name:lahr\n",
            "Enter student ID:3\n",
            "Enter name:nimi\n",
            "Enter residential city name:baloch\n",
            "Enter student ID:stop\n",
            "[['1', 'noor', 'isl'], ['2', 'hira', 'lahr'], ['3', 'nimi', 'baloch']]\n",
            "{'1': ['noor', 'isl'], '2': ['hira', 'lahr'], '3': ['nimi', 'baloch']}\n"
          ]
        }
      ]
    },
    {
      "cell_type": "markdown",
      "source": [
        "# **Write a code for the following scenario:**\n",
        "\n",
        "# **Suppose an instructor of a class has to maintain record of his students in a python dictionary data structure. The designed system asks the instructor for a record of each student one by one as a console input and passes it through a set of sequential steps before generating a dictionary data structure.**\n",
        "\n",
        "\n",
        "# **Write a Python script to perform following set of operations to generate dictionary of data for students.**\n",
        "\n",
        "\n",
        "\n",
        "\n",
        "# **1.   The script should ask the instructor repeatedly for a “student ID”, “name” and his “residential city name” and store it in three different lists. If the instructor types “stop” the loop should exit.**\n",
        "# **2.   Traverse the three lists generated in “part 1” and create a dictionary data structure out of it. The script should take ID of student as a Key of the dictionary and rest of the attributes as a list within that dictionary in following sequence: {1:[“name”,”city”]}**\n",
        "\n",
        "\n",
        "# **Once dictionary is created, the instructor should be able to query the data. He should provide ID of the student as a console input and script should return the name and city of the student.**\n",
        "\n"
      ],
      "metadata": {
        "id": "L48EAbr1QH_1"
      }
    }
  ]
}