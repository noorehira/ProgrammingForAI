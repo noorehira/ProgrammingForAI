{
  "nbformat": 4,
  "nbformat_minor": 0,
  "metadata": {
    "colab": {
      "provenance": [],
      "authorship_tag": "ABX9TyMmwqwwq3nAFy0iPBPW3VzN",
      "include_colab_link": true
    },
    "kernelspec": {
      "name": "python3",
      "display_name": "Python 3"
    },
    "language_info": {
      "name": "python"
    }
  },
  "cells": [
    {
      "cell_type": "markdown",
      "metadata": {
        "id": "view-in-github",
        "colab_type": "text"
      },
      "source": [
        "<a href=\"https://colab.research.google.com/github/noorehira/ProgrammingForAI/blob/main/pai.ipynb\" target=\"_parent\"><img src=\"https://colab.research.google.com/assets/colab-badge.svg\" alt=\"Open In Colab\"/></a>"
      ]
    },
    {
      "cell_type": "code",
      "execution_count": 1,
      "metadata": {
        "id": "yiQQSnR95vFL",
        "outputId": "ff7b9c80-0c94-4821-b143-bf1a71b113a0",
        "colab": {
          "base_uri": "https://localhost:8080/"
        }
      },
      "outputs": [
        {
          "output_type": "stream",
          "name": "stdout",
          "text": [
            "Random Matrix:\n",
            "[[0.95680034 0.62797154 0.17597557 0.08508837 0.88501306]\n",
            " [0.69780759 0.77744771 0.16674481 0.27137157 0.90081642]\n",
            " [0.29647369 0.15863492 0.42744603 0.77616745 0.23239218]\n",
            " [0.12262065 0.20152643 0.64074702 0.38580824 0.05758121]\n",
            " [0.08420161 0.86498046 0.64163388 0.77227792 0.11869504]]\n"
          ]
        }
      ],
      "source": [
        "import numpy as np\n",
        "\n",
        "# Generate a random matrix\n",
        "random_matrix = np.random.rand(5, 5)\n",
        "\n",
        "# Print the matrix\n",
        "print(\"Random Matrix:\")\n",
        "print(random_matrix)\n"
      ]
    }
  ]
}