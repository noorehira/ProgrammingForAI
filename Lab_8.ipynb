{
  "nbformat": 4,
  "nbformat_minor": 0,
  "metadata": {
    "colab": {
      "provenance": [],
      "include_colab_link": true
    },
    "kernelspec": {
      "name": "python3",
      "display_name": "Python 3"
    },
    "language_info": {
      "name": "python"
    }
  },
  "cells": [
    {
      "cell_type": "markdown",
      "metadata": {
        "id": "view-in-github",
        "colab_type": "text"
      },
      "source": [
        "<a href=\"https://colab.research.google.com/github/noorehira/ProgrammingForAI/blob/main/Lab_8.ipynb\" target=\"_parent\"><img src=\"https://colab.research.google.com/assets/colab-badge.svg\" alt=\"Open In Colab\"/></a>"
      ]
    },
    {
      "cell_type": "markdown",
      "source": [
        "# **Column Transformer**"
      ],
      "metadata": {
        "id": "FbORs_SNsdZL"
      }
    },
    {
      "cell_type": "code",
      "source": [
        "import pandas as pd\n",
        "from sklearn.compose import ColumnTransformer\n",
        "from sklearn.impute import SimpleImputer\n",
        "from sklearn.preprocessing import OneHotEncoder\n",
        "from sklearn.preprocessing import MinMaxScaler\n",
        "\n",
        "# Sample DataFrame\n",
        "data = pd.DataFrame({\n",
        "    'Age': [22, None, 24, 22, None, 24],\n",
        "    'Sex': ['male', 'female', 'female','male', 'female', 'female'],\n",
        "    'Embarked': ['B', 'B', 'C', 'C', 'C','S'],\n",
        "    'Fare': [7.25, 71.83, 8.05,7.25, 71.83, 8.05]\n",
        "})\n",
        "\n",
        "print(\"Original DataFrame:\")\n",
        "print(data)\n",
        "\n",
        "# Define ColumnTransformer\n",
        "preprocessor = ColumnTransformer(transformers=[\n",
        "    ('age_imputer', SimpleImputer(strategy='mean'), ['Age']),\n",
        "    ('ohe', OneHotEncoder(), ['Sex','Embarked'])\n",
        "], remainder='passthrough')  # Pass through other columns like 'Fare'\n",
        "\n",
        "# Transform the data\n",
        "transformed_data = preprocessor.fit_transform(data)\n",
        "\n",
        "# Output shape and transformed data\n",
        "print(\"\\nTransformed Data Shape:\")\n",
        "print(transformed_data.shape)\n",
        "print(transformed_data)\n",
        "\n",
        "\n",
        "transformed_df = pd.DataFrame(transformed_data)\n",
        "print(\"\\nTransformed DataFrame:\")\n",
        "print(transformed_df)"
      ],
      "metadata": {
        "colab": {
          "base_uri": "https://localhost:8080/"
        },
        "id": "hP0lcYPxBSnx",
        "outputId": "ce39c6c4-9ee0-4b45-ed8c-bd8b8299f318"
      },
      "execution_count": null,
      "outputs": [
        {
          "output_type": "stream",
          "name": "stdout",
          "text": [
            "Original DataFrame:\n",
            "    Age     Sex Embarked   Fare\n",
            "0  22.0    male        B   7.25\n",
            "1   NaN  female        B  71.83\n",
            "2  24.0  female        C   8.05\n",
            "3  22.0    male        C   7.25\n",
            "4   NaN  female        C  71.83\n",
            "5  24.0  female        S   8.05\n",
            "\n",
            "Transformed Data Shape:\n",
            "(6, 7)\n",
            "[[22.    0.    1.    1.    0.    0.    7.25]\n",
            " [23.    1.    0.    1.    0.    0.   71.83]\n",
            " [24.    1.    0.    0.    1.    0.    8.05]\n",
            " [22.    0.    1.    0.    1.    0.    7.25]\n",
            " [23.    1.    0.    0.    1.    0.   71.83]\n",
            " [24.    1.    0.    0.    0.    1.    8.05]]\n",
            "\n",
            "Transformed DataFrame:\n",
            "      0    1    2    3    4    5      6\n",
            "0  22.0  0.0  1.0  1.0  0.0  0.0   7.25\n",
            "1  23.0  1.0  0.0  1.0  0.0  0.0  71.83\n",
            "2  24.0  1.0  0.0  0.0  1.0  0.0   8.05\n",
            "3  22.0  0.0  1.0  0.0  1.0  0.0   7.25\n",
            "4  23.0  1.0  0.0  0.0  1.0  0.0  71.83\n",
            "5  24.0  1.0  0.0  0.0  0.0  1.0   8.05\n"
          ]
        }
      ]
    },
    {
      "cell_type": "markdown",
      "source": [
        "# **Function Transfomer**"
      ],
      "metadata": {
        "id": "na1w-sVcsBQK"
      }
    },
    {
      "cell_type": "code",
      "source": [
        "import pandas as pd\n",
        "from sklearn.compose import ColumnTransformer\n",
        "from sklearn.impute import SimpleImputer\n",
        "from sklearn.preprocessing import FunctionTransformer, OneHotEncoder\n",
        "from sklearn.pipeline import Pipeline\n",
        "\n",
        "# Sample DataFrame\n",
        "data = pd.DataFrame({\n",
        "    'Age': [22, None, 24,22, None, 24],\n",
        "    'Sex': ['male', 'female', 'female','male', 'female', 'female'],\n",
        "    'Embarked': ['B', 'B', 'C', None, 'C','S'],\n",
        "    'Fare': [7.25, 71.83, 8.05,7.25, 71.83, 8.05]\n",
        "})\n",
        "\n",
        "print(\"Original DataFrame:\")\n",
        "print(data)\n",
        "\n",
        "# Custom function to impute 'Embarked'\n",
        "def impute_embarked(X):\n",
        "    X['Embarked'] = X['Embarked'].fillna(X['Embarked'].mode()[0])  # Fill missing values\n",
        "    #print(X['Embarked'])\n",
        "    return X\n",
        "\n",
        "# Define ColumnTransformer\n",
        "preprocessor = ColumnTransformer(transformers=[\n",
        "    ('age_imputer', SimpleImputer(strategy='mean'), ['Age']),\n",
        "    ('embarked_imputer', FunctionTransformer(impute_embarked), ['Embarked']),\n",
        "    ('ohe', OneHotEncoder(), ['Sex','Embarked'])\n",
        "], remainder='passthrough')  # Pass through other columns like 'Fare'\n",
        "\n",
        "# Transform the data\n",
        "transformed_data = preprocessor.fit_transform(data)\n",
        "\n",
        "# Output shape and transformed data\n",
        "print(\"\\nTransformed Data Shape:\")\n",
        "print(transformed_data.shape)\n",
        "print(transformed_data)\n",
        "\n",
        "\n",
        "transformed_df = pd.DataFrame(transformed_data)\n",
        "print(\"\\nTransformed DataFrame:\")\n",
        "print(transformed_df)\n"
      ],
      "metadata": {
        "colab": {
          "base_uri": "https://localhost:8080/"
        },
        "id": "vcNKBPaJmV2D",
        "outputId": "58eabcb3-faf7-4c5a-e9e6-96ec3867beb8"
      },
      "execution_count": 8,
      "outputs": [
        {
          "output_type": "stream",
          "name": "stdout",
          "text": [
            "Original DataFrame:\n",
            "    Age     Sex Embarked   Fare\n",
            "0  22.0    male        B   7.25\n",
            "1   NaN  female        B  71.83\n",
            "2  24.0  female        C   8.05\n",
            "3  22.0    male     None   7.25\n",
            "4   NaN  female        C  71.83\n",
            "5  24.0  female        S   8.05\n",
            "\n",
            "Transformed Data Shape:\n",
            "(6, 9)\n",
            "[[22.0 'B' 0.0 1.0 1.0 0.0 0.0 0.0 7.25]\n",
            " [23.0 'B' 1.0 0.0 1.0 0.0 0.0 0.0 71.83]\n",
            " [24.0 'C' 1.0 0.0 0.0 1.0 0.0 0.0 8.05]\n",
            " [22.0 'B' 0.0 1.0 0.0 0.0 0.0 1.0 7.25]\n",
            " [23.0 'C' 1.0 0.0 0.0 1.0 0.0 0.0 71.83]\n",
            " [24.0 'S' 1.0 0.0 0.0 0.0 1.0 0.0 8.05]]\n",
            "\n",
            "Transformed DataFrame:\n",
            "      0  1    2    3    4    5    6    7      8\n",
            "0  22.0  B  0.0  1.0  1.0  0.0  0.0  0.0   7.25\n",
            "1  23.0  B  1.0  0.0  1.0  0.0  0.0  0.0  71.83\n",
            "2  24.0  C  1.0  0.0  0.0  1.0  0.0  0.0   8.05\n",
            "3  22.0  B  0.0  1.0  0.0  0.0  0.0  1.0   7.25\n",
            "4  23.0  C  1.0  0.0  0.0  1.0  0.0  0.0  71.83\n",
            "5  24.0  S  1.0  0.0  0.0  0.0  1.0  0.0   8.05\n"
          ]
        }
      ]
    },
    {
      "cell_type": "markdown",
      "source": [
        "# **Sklean Pipeline**"
      ],
      "metadata": {
        "id": "FduUyuJ7r7Ps"
      }
    },
    {
      "cell_type": "code",
      "source": [
        "import pandas as pd\n",
        "from sklearn.compose import ColumnTransformer\n",
        "from sklearn.impute import SimpleImputer\n",
        "from sklearn.preprocessing import FunctionTransformer, OneHotEncoder\n",
        "from sklearn.pipeline import Pipeline\n",
        "\n",
        "# Sample DataFrame\n",
        "data = pd.DataFrame({\n",
        "    'Age': [22, None, 24,22, None, 24],\n",
        "    'Sex': ['male', 'female', 'female','male', 'female', 'female'],\n",
        "    'Embarked': ['B', 'B', 'C', None, 'C','S'],\n",
        "    'Fare': [7.25, 71.83, 8.05,7.25, 71.83, 8.05]\n",
        "})\n",
        "\n",
        "print(\"Original DataFrame:\")\n",
        "print(data)\n",
        "\n",
        "# Custom function to impute 'Embarked'\n",
        "def impute_embarked(X):\n",
        "    X['Embarked'] = X['Embarked'].fillna(X['Embarked'].mode()[0])  # Fill missing values\n",
        "    print (X['Embarked'])\n",
        "    return X\n",
        "\n",
        "preprocessor = ColumnTransformer(transformers=[\n",
        "    ('age_imputer', SimpleImputer(strategy='mean'), ['Age']),\n",
        "    ('embarked_encoder', Pipeline(steps=[\n",
        "        ('imputer', FunctionTransformer(impute_embarked)),  # Impute Embarked first\n",
        "        ('onehot', OneHotEncoder())  # Then apply OneHotEncoder\n",
        "    ]), ['Embarked']),\n",
        "    ('ohe', OneHotEncoder(), ['Sex'])\n",
        "], remainder='passthrough')  # Pass through other columns like 'Fare'\n",
        "\n",
        "\n",
        "# Transform the data\n",
        "transformed_data = preprocessor.fit_transform(data)\n",
        "\n",
        "# Output shape and transformed data\n",
        "print(\"\\nTransformed Data Shape:\")\n",
        "print(transformed_data.shape)\n",
        "print(transformed_data)\n",
        "\n",
        "transformed_df = pd.DataFrame(transformed_data)\n",
        "print(\"\\nTransformed DataFrame:\")\n",
        "print(transformed_df)\n"
      ],
      "metadata": {
        "colab": {
          "base_uri": "https://localhost:8080/"
        },
        "id": "dPRNoA9DWCRV",
        "outputId": "6da89211-da85-4a5d-9e0f-6dfafc44feb0"
      },
      "execution_count": null,
      "outputs": [
        {
          "output_type": "stream",
          "name": "stdout",
          "text": [
            "Original DataFrame:\n",
            "    Age     Sex Embarked   Fare\n",
            "0  22.0    male        B   7.25\n",
            "1   NaN  female        B  71.83\n",
            "2  24.0  female        C   8.05\n",
            "3  22.0    male     None   7.25\n",
            "4   NaN  female        C  71.83\n",
            "5  24.0  female        S   8.05\n",
            "0    B\n",
            "1    B\n",
            "2    C\n",
            "3    B\n",
            "4    C\n",
            "5    S\n",
            "Name: Embarked, dtype: object\n",
            "\n",
            "Transformed Data Shape:\n",
            "(6, 7)\n",
            "[[22.    1.    0.    0.    0.    1.    7.25]\n",
            " [23.    1.    0.    0.    1.    0.   71.83]\n",
            " [24.    0.    1.    0.    1.    0.    8.05]\n",
            " [22.    1.    0.    0.    0.    1.    7.25]\n",
            " [23.    0.    1.    0.    1.    0.   71.83]\n",
            " [24.    0.    0.    1.    1.    0.    8.05]]\n",
            "\n",
            "Transformed DataFrame:\n",
            "      0    1    2    3    4    5      6\n",
            "0  22.0  1.0  0.0  0.0  0.0  1.0   7.25\n",
            "1  23.0  1.0  0.0  0.0  1.0  0.0  71.83\n",
            "2  24.0  0.0  1.0  0.0  1.0  0.0   8.05\n",
            "3  22.0  1.0  0.0  0.0  0.0  1.0   7.25\n",
            "4  23.0  0.0  1.0  0.0  1.0  0.0  71.83\n",
            "5  24.0  0.0  0.0  1.0  1.0  0.0   8.05\n"
          ]
        }
      ]
    },
    {
      "cell_type": "code",
      "source": [
        "import pandas as pd\n",
        "from sklearn.preprocessing import MinMaxScaler\n",
        "\n",
        "# Load the Titanic dataset\n",
        "# Replace the path with the correct location of your Titanic dataset\n",
        "titanic_data = pd.read_csv(\"titanic.csv\")\n",
        "\n",
        "# Initialize the MinMaxScaler\n",
        "scaler = MinMaxScaler()\n",
        "\n",
        "# Apply MinMaxScaler on 'Age' and 'Fare' columns\n",
        "titanic_data[['Age', 'Fare']] = scaler.fit_transform(titanic_data[['Age', 'Fare']])\n",
        "\n",
        "# Display the transformed data\n",
        "print(titanic_data[['Age', 'Fare']].head())\n",
        "titanic_data['FamilySize'] = titanic_data['SibSp'] + titanic_data['Parch'] + 1\n",
        "\n",
        "# Display the updated data\n",
        "print(titanic_data[['Age', 'Fare', 'FamilySize']].head())\n"
      ],
      "metadata": {
        "id": "pw7ymzfUA6I_",
        "outputId": "a4aa83f4-1223-4de4-945f-0541c5fea628",
        "colab": {
          "base_uri": "https://localhost:8080/"
        }
      },
      "execution_count": 10,
      "outputs": [
        {
          "output_type": "stream",
          "name": "stdout",
          "text": [
            "        Age      Fare\n",
            "0  0.452723  0.015282\n",
            "1  0.617566  0.013663\n",
            "2  0.815377  0.018909\n",
            "3  0.353818  0.016908\n",
            "4  0.287881  0.023984\n",
            "        Age      Fare  FamilySize\n",
            "0  0.452723  0.015282           1\n",
            "1  0.617566  0.013663           2\n",
            "2  0.815377  0.018909           1\n",
            "3  0.353818  0.016908           1\n",
            "4  0.287881  0.023984           3\n"
          ]
        }
      ]
    },
    {
      "cell_type": "code",
      "source": [
        "def add_family_size(X):\n",
        "    X['FamilySize'] = X['SibSp'] + X['Parch'] + 1\n",
        "    return X\n",
        "\n",
        "# Define transformers\n",
        "scaler = MinMaxScaler()\n",
        "family_size_transformer = FunctionTransformer(add_family_size)\n",
        "\n",
        "# Create ColumnTransformer\n",
        "preprocessor = ColumnTransformer(\n",
        "    transformers=[\n",
        "        ('scaler', scaler, ['Age', 'Fare']),\n",
        "        ('family_size', family_size_transformer, ['SibSp', 'Parch'])  # We use 'SibSp' and 'Parch' to calculate 'FamilySize'\n",
        "    ],\n",
        "    remainder='passthrough'  # Keeps the other columns as they are\n",
        ")\n",
        "print(titanic_data[['Age', 'Fare', 'FamilySize']].head())\n"
      ],
      "metadata": {
        "id": "orGQzsTRDG9L",
        "outputId": "3513ee61-a255-49d8-c457-dd20bd815c3b",
        "colab": {
          "base_uri": "https://localhost:8080/"
        }
      },
      "execution_count": 13,
      "outputs": [
        {
          "output_type": "stream",
          "name": "stdout",
          "text": [
            "        Age      Fare  FamilySize\n",
            "0  0.452723  0.015282           1\n",
            "1  0.617566  0.013663           2\n",
            "2  0.815377  0.018909           1\n",
            "3  0.353818  0.016908           1\n",
            "4  0.287881  0.023984           3\n"
          ]
        }
      ]
    },
    {
      "cell_type": "code",
      "source": [
        "import pandas as pd\n",
        "from sklearn.compose import ColumnTransformer\n",
        "from sklearn.impute import SimpleImputer\n",
        "from sklearn.preprocessing import FunctionTransformer, OneHotEncoder\n",
        "from sklearn.pipeline import Pipeline\n",
        "\n",
        "# Sample DataFrame\n",
        "data = pd.DataFrame({\n",
        "    'Age': [22, None, 24, 22, None, 24],\n",
        "    'Sex': ['male', 'female', 'female', 'male', 'female', 'female'],\n",
        "    'Embarked': ['B', 'B', 'C', None, 'C', 'S'],\n",
        "    'Fare': [7.25, 71.83, 8.05, 7.25, 71.83, 8.05],\n",
        "    'SibSp': [1, 0, 1, 1, 0, 2],\n",
        "    'Parch': [0, 1, 2, 0, 2, 1]\n",
        "})\n",
        "\n",
        "print(\"Original DataFrame:\")\n",
        "print(data)\n",
        "\n",
        "# Custom function to impute 'Embarked'\n",
        "def impute_embarked(X):\n",
        "    X['Embarked'] = X['Embarked'].fillna(X['Embarked'].mode()[0])  # Fill missing values\n",
        "    return X\n",
        "\n",
        "# Custom function to calculate 'FamilySize'\n",
        "def calculate_family_size(X):\n",
        "    X['FamilySize'] = X['SibSp'] + X['Parch'] + 1\n",
        "    return X[['FamilySize']]\n",
        "\n",
        "# Preprocessing pipeline\n",
        "preprocessor = ColumnTransformer(transformers=[\n",
        "    ('age_imputer', SimpleImputer(strategy='mean'), ['Age']),\n",
        "    ('embarked_encoder', Pipeline(steps=[\n",
        "        ('imputer', FunctionTransformer(impute_embarked)),  # Impute Embarked first\n",
        "        ('onehot', OneHotEncoder())  # Then apply OneHotEncoder\n",
        "    ]), ['Embarked']),\n",
        "    ('sex_encoder', OneHotEncoder(), ['Sex']),\n",
        "    ('family_size', FunctionTransformer(calculate_family_size), ['SibSp', 'Parch'])  # Create FamilySize feature\n",
        "], remainder='passthrough')  # Pass through other columns like 'Fare'\n",
        "\n",
        "# Transform the data\n",
        "transformed_data = print(preprocessor.fit_transform(data))\n",
        "\n",
        "# # Convert the result to a DataFrame for readability\n",
        "# transformed_df = print(pd.DataFrame(transformed_data, columns=['Age', 'Embarked_B', 'Embarked_C', 'Embarked_S', 'Sex_female', 'Sex_male', 'FamilySize', 'Fare']))\n",
        "# print(\"\\nTransformed DataFrame:\")\n",
        "# print(transformed_df)\n"
      ],
      "metadata": {
        "id": "wm-vl1tMDWBN",
        "outputId": "72428fcb-544a-4abb-97d3-0944d113503d",
        "colab": {
          "base_uri": "https://localhost:8080/"
        }
      },
      "execution_count": 20,
      "outputs": [
        {
          "output_type": "stream",
          "name": "stdout",
          "text": [
            "Original DataFrame:\n",
            "    Age     Sex Embarked   Fare  SibSp  Parch\n",
            "0  22.0    male        B   7.25      1      0\n",
            "1   NaN  female        B  71.83      0      1\n",
            "2  24.0  female        C   8.05      1      2\n",
            "3  22.0    male     None   7.25      1      0\n",
            "4   NaN  female        C  71.83      0      2\n",
            "5  24.0  female        S   8.05      2      1\n",
            "[[22.    1.    0.    0.    0.    1.    2.    7.25]\n",
            " [23.    1.    0.    0.    1.    0.    2.   71.83]\n",
            " [24.    0.    1.    0.    1.    0.    4.    8.05]\n",
            " [22.    1.    0.    0.    0.    1.    2.    7.25]\n",
            " [23.    0.    1.    0.    1.    0.    3.   71.83]\n",
            " [24.    0.    0.    1.    1.    0.    4.    8.05]]\n",
            "Empty DataFrame\n",
            "Columns: [Age, Embarked_B, Embarked_C, Embarked_S, Sex_female, Sex_male, FamilySize, Fare]\n",
            "Index: []\n"
          ]
        }
      ]
    },
    {
      "cell_type": "markdown",
      "source": [
        "# Lab Task\n",
        "\n",
        "**Add Scaling preprocessing step using MinMacScaler function from sklearn.preprocessing module for Age and Fare Columns in the titanic dataset.**\n",
        "\n",
        "**Apply Feature Creation preprocessing step to create a Family Size feature which calculates Family Size for each Passenger using following Equation. FamilySize = SibSp + Parch + 1**\n",
        "\n",
        "**Use ColumnTransformer, FunctionTransformer and Pipeline features to preprocess the following dataset**\n",
        "\n",
        "https://www.kaggle.com/datasets/kamilpytlak/personal-key-indicators-of-heart-disease"
      ],
      "metadata": {
        "id": "Vu7nZz_DrFFY"
      }
    }
  ]
}