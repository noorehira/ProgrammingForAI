{
  "nbformat": 4,
  "nbformat_minor": 0,
  "metadata": {
    "colab": {
      "provenance": [],
      "include_colab_link": true
    },
    "kernelspec": {
      "name": "python3",
      "display_name": "Python 3"
    },
    "language_info": {
      "name": "python"
    }
  },
  "cells": [
    {
      "cell_type": "markdown",
      "metadata": {
        "id": "view-in-github",
        "colab_type": "text"
      },
      "source": [
        "<a href=\"https://colab.research.google.com/github/noorehira/ProgrammingForAI/blob/main/Lab_Exam.ipynb\" target=\"_parent\"><img src=\"https://colab.research.google.com/assets/colab-badge.svg\" alt=\"Open In Colab\"/></a>"
      ]
    },
    {
      "cell_type": "markdown",
      "source": [
        "## **Quiz-2**"
      ],
      "metadata": {
        "id": "wKBOgALplcmv"
      }
    },
    {
      "cell_type": "code",
      "source": [
        "import numpy as np\n",
        "import pandas as pd"
      ],
      "metadata": {
        "id": "awVqjfmtznSY"
      },
      "execution_count": 1,
      "outputs": []
    },
    {
      "cell_type": "code",
      "source": [
        "temp_df = pd.read_csv('/content/reviews_dataset.csv')"
      ],
      "metadata": {
        "id": "pUi4mDgkz8vX"
      },
      "execution_count": 2,
      "outputs": []
    },
    {
      "cell_type": "code",
      "source": [
        "temp_df.shape"
      ],
      "metadata": {
        "colab": {
          "base_uri": "https://localhost:8080/"
        },
        "id": "vMKq3Fsd0Deq",
        "outputId": "4889824d-ae2a-47b9-80dc-7e8b5fecaca0"
      },
      "execution_count": 3,
      "outputs": [
        {
          "output_type": "execute_result",
          "data": {
            "text/plain": [
              "(2225, 2)"
            ]
          },
          "metadata": {},
          "execution_count": 3
        }
      ]
    },
    {
      "cell_type": "code",
      "source": [
        "df = temp_df.iloc[:5000]"
      ],
      "metadata": {
        "id": "YaOh6dIj1Kop"
      },
      "execution_count": 10,
      "outputs": []
    },
    {
      "cell_type": "code",
      "source": [
        "df.shape"
      ],
      "metadata": {
        "colab": {
          "base_uri": "https://localhost:8080/"
        },
        "id": "SvcBUrQC0UCH",
        "outputId": "3491c934-b984-428a-f479-2a00ae3c7006"
      },
      "execution_count": 11,
      "outputs": [
        {
          "output_type": "execute_result",
          "data": {
            "text/plain": [
              "(2225, 2)"
            ]
          },
          "metadata": {},
          "execution_count": 11
        }
      ]
    },
    {
      "cell_type": "code",
      "source": [
        "df.head()"
      ],
      "metadata": {
        "colab": {
          "base_uri": "https://localhost:8080/",
          "height": 206
        },
        "id": "P2XsaHvD0Wz0",
        "outputId": "77c8acb0-8cc0-4a04-bce7-4c90f2555308"
      },
      "execution_count": 12,
      "outputs": [
        {
          "output_type": "execute_result",
          "data": {
            "text/plain": [
              "                                                news      type\n",
              "0  China had role in Yukos split-up\\n \\n China le...  business\n",
              "1  Oil rebounds from weather effect\\n \\n Oil pric...  business\n",
              "2  Indonesia 'declines debt freeze'\\n \\n Indonesi...  business\n",
              "3  $1m payoff for former Shell boss\\n \\n Shell is...  business\n",
              "4  US bank in $515m SEC settlement\\n \\n Five Bank...  business"
            ],
            "text/html": [
              "\n",
              "  <div id=\"df-ba9e81e9-feb8-41c1-9e26-b4df3dfc6226\" class=\"colab-df-container\">\n",
              "    <div>\n",
              "<style scoped>\n",
              "    .dataframe tbody tr th:only-of-type {\n",
              "        vertical-align: middle;\n",
              "    }\n",
              "\n",
              "    .dataframe tbody tr th {\n",
              "        vertical-align: top;\n",
              "    }\n",
              "\n",
              "    .dataframe thead th {\n",
              "        text-align: right;\n",
              "    }\n",
              "</style>\n",
              "<table border=\"1\" class=\"dataframe\">\n",
              "  <thead>\n",
              "    <tr style=\"text-align: right;\">\n",
              "      <th></th>\n",
              "      <th>news</th>\n",
              "      <th>type</th>\n",
              "    </tr>\n",
              "  </thead>\n",
              "  <tbody>\n",
              "    <tr>\n",
              "      <th>0</th>\n",
              "      <td>China had role in Yukos split-up\\n \\n China le...</td>\n",
              "      <td>business</td>\n",
              "    </tr>\n",
              "    <tr>\n",
              "      <th>1</th>\n",
              "      <td>Oil rebounds from weather effect\\n \\n Oil pric...</td>\n",
              "      <td>business</td>\n",
              "    </tr>\n",
              "    <tr>\n",
              "      <th>2</th>\n",
              "      <td>Indonesia 'declines debt freeze'\\n \\n Indonesi...</td>\n",
              "      <td>business</td>\n",
              "    </tr>\n",
              "    <tr>\n",
              "      <th>3</th>\n",
              "      <td>$1m payoff for former Shell boss\\n \\n Shell is...</td>\n",
              "      <td>business</td>\n",
              "    </tr>\n",
              "    <tr>\n",
              "      <th>4</th>\n",
              "      <td>US bank in $515m SEC settlement\\n \\n Five Bank...</td>\n",
              "      <td>business</td>\n",
              "    </tr>\n",
              "  </tbody>\n",
              "</table>\n",
              "</div>\n",
              "    <div class=\"colab-df-buttons\">\n",
              "\n",
              "  <div class=\"colab-df-container\">\n",
              "    <button class=\"colab-df-convert\" onclick=\"convertToInteractive('df-ba9e81e9-feb8-41c1-9e26-b4df3dfc6226')\"\n",
              "            title=\"Convert this dataframe to an interactive table.\"\n",
              "            style=\"display:none;\">\n",
              "\n",
              "  <svg xmlns=\"http://www.w3.org/2000/svg\" height=\"24px\" viewBox=\"0 -960 960 960\">\n",
              "    <path d=\"M120-120v-720h720v720H120Zm60-500h600v-160H180v160Zm220 220h160v-160H400v160Zm0 220h160v-160H400v160ZM180-400h160v-160H180v160Zm440 0h160v-160H620v160ZM180-180h160v-160H180v160Zm440 0h160v-160H620v160Z\"/>\n",
              "  </svg>\n",
              "    </button>\n",
              "\n",
              "  <style>\n",
              "    .colab-df-container {\n",
              "      display:flex;\n",
              "      gap: 12px;\n",
              "    }\n",
              "\n",
              "    .colab-df-convert {\n",
              "      background-color: #E8F0FE;\n",
              "      border: none;\n",
              "      border-radius: 50%;\n",
              "      cursor: pointer;\n",
              "      display: none;\n",
              "      fill: #1967D2;\n",
              "      height: 32px;\n",
              "      padding: 0 0 0 0;\n",
              "      width: 32px;\n",
              "    }\n",
              "\n",
              "    .colab-df-convert:hover {\n",
              "      background-color: #E2EBFA;\n",
              "      box-shadow: 0px 1px 2px rgba(60, 64, 67, 0.3), 0px 1px 3px 1px rgba(60, 64, 67, 0.15);\n",
              "      fill: #174EA6;\n",
              "    }\n",
              "\n",
              "    .colab-df-buttons div {\n",
              "      margin-bottom: 4px;\n",
              "    }\n",
              "\n",
              "    [theme=dark] .colab-df-convert {\n",
              "      background-color: #3B4455;\n",
              "      fill: #D2E3FC;\n",
              "    }\n",
              "\n",
              "    [theme=dark] .colab-df-convert:hover {\n",
              "      background-color: #434B5C;\n",
              "      box-shadow: 0px 1px 3px 1px rgba(0, 0, 0, 0.15);\n",
              "      filter: drop-shadow(0px 1px 2px rgba(0, 0, 0, 0.3));\n",
              "      fill: #FFFFFF;\n",
              "    }\n",
              "  </style>\n",
              "\n",
              "    <script>\n",
              "      const buttonEl =\n",
              "        document.querySelector('#df-ba9e81e9-feb8-41c1-9e26-b4df3dfc6226 button.colab-df-convert');\n",
              "      buttonEl.style.display =\n",
              "        google.colab.kernel.accessAllowed ? 'block' : 'none';\n",
              "\n",
              "      async function convertToInteractive(key) {\n",
              "        const element = document.querySelector('#df-ba9e81e9-feb8-41c1-9e26-b4df3dfc6226');\n",
              "        const dataTable =\n",
              "          await google.colab.kernel.invokeFunction('convertToInteractive',\n",
              "                                                    [key], {});\n",
              "        if (!dataTable) return;\n",
              "\n",
              "        const docLinkHtml = 'Like what you see? Visit the ' +\n",
              "          '<a target=\"_blank\" href=https://colab.research.google.com/notebooks/data_table.ipynb>data table notebook</a>'\n",
              "          + ' to learn more about interactive tables.';\n",
              "        element.innerHTML = '';\n",
              "        dataTable['output_type'] = 'display_data';\n",
              "        await google.colab.output.renderOutput(dataTable, element);\n",
              "        const docLink = document.createElement('div');\n",
              "        docLink.innerHTML = docLinkHtml;\n",
              "        element.appendChild(docLink);\n",
              "      }\n",
              "    </script>\n",
              "  </div>\n",
              "\n",
              "\n",
              "<div id=\"df-7cd7316e-6cd8-42c7-9e7e-c5e01cdf1eb1\">\n",
              "  <button class=\"colab-df-quickchart\" onclick=\"quickchart('df-7cd7316e-6cd8-42c7-9e7e-c5e01cdf1eb1')\"\n",
              "            title=\"Suggest charts\"\n",
              "            style=\"display:none;\">\n",
              "\n",
              "<svg xmlns=\"http://www.w3.org/2000/svg\" height=\"24px\"viewBox=\"0 0 24 24\"\n",
              "     width=\"24px\">\n",
              "    <g>\n",
              "        <path d=\"M19 3H5c-1.1 0-2 .9-2 2v14c0 1.1.9 2 2 2h14c1.1 0 2-.9 2-2V5c0-1.1-.9-2-2-2zM9 17H7v-7h2v7zm4 0h-2V7h2v10zm4 0h-2v-4h2v4z\"/>\n",
              "    </g>\n",
              "</svg>\n",
              "  </button>\n",
              "\n",
              "<style>\n",
              "  .colab-df-quickchart {\n",
              "      --bg-color: #E8F0FE;\n",
              "      --fill-color: #1967D2;\n",
              "      --hover-bg-color: #E2EBFA;\n",
              "      --hover-fill-color: #174EA6;\n",
              "      --disabled-fill-color: #AAA;\n",
              "      --disabled-bg-color: #DDD;\n",
              "  }\n",
              "\n",
              "  [theme=dark] .colab-df-quickchart {\n",
              "      --bg-color: #3B4455;\n",
              "      --fill-color: #D2E3FC;\n",
              "      --hover-bg-color: #434B5C;\n",
              "      --hover-fill-color: #FFFFFF;\n",
              "      --disabled-bg-color: #3B4455;\n",
              "      --disabled-fill-color: #666;\n",
              "  }\n",
              "\n",
              "  .colab-df-quickchart {\n",
              "    background-color: var(--bg-color);\n",
              "    border: none;\n",
              "    border-radius: 50%;\n",
              "    cursor: pointer;\n",
              "    display: none;\n",
              "    fill: var(--fill-color);\n",
              "    height: 32px;\n",
              "    padding: 0;\n",
              "    width: 32px;\n",
              "  }\n",
              "\n",
              "  .colab-df-quickchart:hover {\n",
              "    background-color: var(--hover-bg-color);\n",
              "    box-shadow: 0 1px 2px rgba(60, 64, 67, 0.3), 0 1px 3px 1px rgba(60, 64, 67, 0.15);\n",
              "    fill: var(--button-hover-fill-color);\n",
              "  }\n",
              "\n",
              "  .colab-df-quickchart-complete:disabled,\n",
              "  .colab-df-quickchart-complete:disabled:hover {\n",
              "    background-color: var(--disabled-bg-color);\n",
              "    fill: var(--disabled-fill-color);\n",
              "    box-shadow: none;\n",
              "  }\n",
              "\n",
              "  .colab-df-spinner {\n",
              "    border: 2px solid var(--fill-color);\n",
              "    border-color: transparent;\n",
              "    border-bottom-color: var(--fill-color);\n",
              "    animation:\n",
              "      spin 1s steps(1) infinite;\n",
              "  }\n",
              "\n",
              "  @keyframes spin {\n",
              "    0% {\n",
              "      border-color: transparent;\n",
              "      border-bottom-color: var(--fill-color);\n",
              "      border-left-color: var(--fill-color);\n",
              "    }\n",
              "    20% {\n",
              "      border-color: transparent;\n",
              "      border-left-color: var(--fill-color);\n",
              "      border-top-color: var(--fill-color);\n",
              "    }\n",
              "    30% {\n",
              "      border-color: transparent;\n",
              "      border-left-color: var(--fill-color);\n",
              "      border-top-color: var(--fill-color);\n",
              "      border-right-color: var(--fill-color);\n",
              "    }\n",
              "    40% {\n",
              "      border-color: transparent;\n",
              "      border-right-color: var(--fill-color);\n",
              "      border-top-color: var(--fill-color);\n",
              "    }\n",
              "    60% {\n",
              "      border-color: transparent;\n",
              "      border-right-color: var(--fill-color);\n",
              "    }\n",
              "    80% {\n",
              "      border-color: transparent;\n",
              "      border-right-color: var(--fill-color);\n",
              "      border-bottom-color: var(--fill-color);\n",
              "    }\n",
              "    90% {\n",
              "      border-color: transparent;\n",
              "      border-bottom-color: var(--fill-color);\n",
              "    }\n",
              "  }\n",
              "</style>\n",
              "\n",
              "  <script>\n",
              "    async function quickchart(key) {\n",
              "      const quickchartButtonEl =\n",
              "        document.querySelector('#' + key + ' button');\n",
              "      quickchartButtonEl.disabled = true;  // To prevent multiple clicks.\n",
              "      quickchartButtonEl.classList.add('colab-df-spinner');\n",
              "      try {\n",
              "        const charts = await google.colab.kernel.invokeFunction(\n",
              "            'suggestCharts', [key], {});\n",
              "      } catch (error) {\n",
              "        console.error('Error during call to suggestCharts:', error);\n",
              "      }\n",
              "      quickchartButtonEl.classList.remove('colab-df-spinner');\n",
              "      quickchartButtonEl.classList.add('colab-df-quickchart-complete');\n",
              "    }\n",
              "    (() => {\n",
              "      let quickchartButtonEl =\n",
              "        document.querySelector('#df-7cd7316e-6cd8-42c7-9e7e-c5e01cdf1eb1 button');\n",
              "      quickchartButtonEl.style.display =\n",
              "        google.colab.kernel.accessAllowed ? 'block' : 'none';\n",
              "    })();\n",
              "  </script>\n",
              "</div>\n",
              "\n",
              "    </div>\n",
              "  </div>\n"
            ],
            "application/vnd.google.colaboratory.intrinsic+json": {
              "type": "dataframe",
              "variable_name": "df",
              "summary": "{\n  \"name\": \"df\",\n  \"rows\": 2225,\n  \"fields\": [\n    {\n      \"column\": \"news\",\n      \"properties\": {\n        \"dtype\": \"string\",\n        \"num_unique_values\": 2127,\n        \"samples\": [\n          \"Millions go missing at China bank\\n \\n Two senior officials at one of China's top commercial banks have reportedly disappeared after funds worth up to $120m (\\u00c2\\u00a364m) went missing.\\n \\n The pair both worked at Bank of China in the northern city of Harbin, the South China Morning Post reported. The latest scandal at Bank of China will do nothing to reassure foreign investors that China's big four banks are ready for international listings. Government policy sees the bank listings as vital economic reforms. Bank of China is one of two frontrunners in the race to list overseas. The other is China Construction Bank. Both are expected to list abroad during 2005.\\n \\n They shared a $45bn state bailout in 2003, to help clean up their balance sheets in preparation for a foreign stock market debut.\\n \\n However, a report in the China-published Economic Observer said on Monday that the two banks may have scrapped plans to list in New York because of the cost of meeting regulatory requirements imposed since the Enron scandal. Bank of China is the country's biggest foreign exchange dealer, while China Construction Bank is the largest deposit holder. China's banking sector is burdened with at least $190bn of bad debt according to official data, though most observers believe the true figure is far higher. Officially, one in five loans is not being repaid. Attempts to strengthen internal controls and tighten lending policies have uncovered a succession of scandals involving embezzlement by bank officials and loans-for-favours. The most high-profile case involved the ex-president of Bank of China, Wang Xuebing, jailed for 12 years in 2003. Although, he committed the offences whilst running Bank of China in New York, Mr Wang was head of China Construction Bank when the scandal broke. Earlier this month, a China Construction Bank branch manager was jailed for life in a separate case.\\n \\n China's banks used to act as cash offices for state enterprises and did not require checks on credit worthiness. The introduction of market reforms has been accompanied by attempts to modernise the banking sector, but links between banks and local government remain strong. Last year, China's premier, Wen Jiabao, targeted bank lending practices in a series of speeches, and regulators ordered all big loans to be scrutinised, in an attempt to cool down irresponsible lending. China's leaders see reforming the top four banks as vital to distribute capital to profitable companies and protect the health of China's economic boom. But two problems persist. First, inefficient state enterprises continue to receive protection from bankruptcy because they employ large numbers of people. Second, many questionable loans come not from the big four, but from smaller banks. Another high profile financial firm, China Life, is facing shareholder lawsuits and a probe by the US Securities and Exchange Commission following its 2004 New York listing over its failure to disclose accounting irregularities at its parent company.\\n\",\n          \"Portable PlayStation ready to go\\n \\n Sony's PlayStation Portable (PSP) will go on sale in Japan on 12 December.\\n \\n The long-awaited handheld game playing gadget will cost about 19,800 yen (145 euros) when it hits the shelves. At launch 21 games will be available for the PSP, including Need for Speed, Ridge Racer, Metal Gear Acid and Vampire Chronicle. Sony has not yet announced when the PSP will be available in Europe and the US, but analysts expect it to debut in those territories in early 2005.\\n \\n Fifa 2005 is back at the top of the UK games charts, a week after losing it to rival Pro Evolution Soccer 4. Konami's Pro Evo dropped only one place to two, while the only new entry in the top 10 was another football title, LMA Manager 2005, in at number seven. Tony Hawk's Underground 2 held its own at three, while Star Wars Battlefront inched up to four places to four. There was good news for Disney, with the spin-off from the Shark's Tale film moving up the charts into number eight.\\n \\n Fans of the Gran Turismo series in Europe are going to have to wait until next year for the latest version. Sony has said that the PAL version of GT4 will not be ready for Christmas. \\\"The product is localised into 13 different languages across the PAL territories, therefore the process takes considerably longer than it does in Japan,\\\" it said. Gran Turismo 4 for the PlayStation 2 is still expected to be released in Japan and the USA this year.\\n \\n Halo 2 has broken video game records, with pre-orders of more than 1.5 million in the US alone. Some 6,500 US stores plan to open just after midnight on Tuesday 9 November for the game's release. \\\"Halo 2 is projected to bring in more revenue than any day one box office blockbuster movie in the United States,\\\" said Xbox's Peter Moore. \\\"We've even heard rumours of fan anticipation of the 'Halo 2 flu' on 9 November.\\\"\\n\",\n          \"Tomlinson stays focused on Europe\\n \\n Long jumper Chris Tomlinson has cut his schedule to ensure he is fully fit for the European Indoor Championships.\\n \\n The 23-year-old has a minor injury and has pulled out of international meets in Madrid and Lievin this week as well as warm-weather training in Lanzarote. \\\"It's nothing serious,\\\" said his coach Peter Stanley. \\\"He strained a muscle in his abdomen at the Birmingham meeting but is back in full training.\\\" Sprinter Mark Lewis-Francis will also not compete in Madrid on Thursday. The Birmingham athlete, who clocked a season's best of 6.61 seconds over 60m in Birmingham last week, also prefers to focus his attentions on next month's European Indoor Championships.\\n \\n Lewis-Francis, who was runner-up to British team-mate Jason Gardener at the Europeans three years ago, will continue his training at home. Meanwhile, Tomlinson is still searching for this first major medal and this season he has shown he could be in the sort of form to grab a spot on the podium in Madrid. The Middlesbrough athlete jumped a season's best of 7.95m at the Birmingham Grand Prix - good enough to push world indoor champion Savante Stringfellow into second.\\n\"\n        ],\n        \"semantic_type\": \"\",\n        \"description\": \"\"\n      }\n    },\n    {\n      \"column\": \"type\",\n      \"properties\": {\n        \"dtype\": \"category\",\n        \"num_unique_values\": 5,\n        \"samples\": [\n          \"entertainment\",\n          \"tech\",\n          \"politics\"\n        ],\n        \"semantic_type\": \"\",\n        \"description\": \"\"\n      }\n    }\n  ]\n}"
            }
          },
          "metadata": {},
          "execution_count": 12
        }
      ]
    },
    {
      "cell_type": "code",
      "source": [
        "df['news'][1]"
      ],
      "metadata": {
        "colab": {
          "base_uri": "https://localhost:8080/",
          "height": 140
        },
        "id": "OKx5zcs40_2G",
        "outputId": "9afeab16-ce96-40a8-bc71-7c7fb4773661"
      },
      "execution_count": 13,
      "outputs": [
        {
          "output_type": "execute_result",
          "data": {
            "text/plain": [
              "'Oil rebounds from weather effect\\n \\n Oil prices recovered in Asian trade on Tuesday, after falling in New York on milder winter weather across the US.\\n \\n With winter temperatures staying relatively high in the northern US, a barrel of light crude ended Monday down $1.33 to $42.12. However crude prices have rebounded in Asia, rising to $42.30 a barrel for February delivery. In London, trading of Brent crude was suspended for a public holiday, but the price fell to $39.20 in the Far East.\\n \\n With milder temperatures expected to continue in the northern parts of the US over the next few days at least, analysts have said the price of oil may fall further - even if the decline was only temporary. \"Weather has been the Achilles\\' heel of this market,\" said ABN AMRO analyst John Brady. \"But it is winter in the northeast. Eventually we\\'ll get another cold blast.\" Despite a fall of more than $12 a barrel from the record highs reached in late October, the price of crude oil remains almost 30% higher than year-ago levels. Prices rose last week after militant attacks in Riyadh, the capital of Saudi Arabia, briefly renewed fears that the supply chain might be broken in the world\\'s leading crude exporter. \"The market was panicked but fears essentially evaporated... since there was no follow-up,\" said Deborah White, senior economist for energy at SG Securities in Paris.\\n'"
            ],
            "application/vnd.google.colaboratory.intrinsic+json": {
              "type": "string"
            }
          },
          "metadata": {},
          "execution_count": 13
        }
      ]
    },
    {
      "cell_type": "markdown",
      "source": [
        "# Drop words if not alphabets.\n",
        "# Tokenize the sentence.\n",
        "# Perform lemitization."
      ],
      "metadata": {
        "id": "MICSHnwo6CIL"
      }
    },
    {
      "cell_type": "code",
      "source": [
        "import re\n",
        "import nltk\n",
        "from nltk.tokenize import word_tokenize\n",
        "from nltk.stem import WordNetLemmatizer\n",
        "\n",
        "# Download the necessary NLTK resources\n",
        "nltk.download('punkt')\n",
        "nltk.download('wordnet')\n",
        "nltk.download('punkt_tab')\n",
        "\n",
        "def drop_non_alphabets(text):\n",
        "    \"\"\"Drops words if not alphabets.\"\"\"\n",
        "\n",
        "    if isinstance(text, str):\n",
        "        words = text.split()\n",
        "        cleaned_words = [word for word in words if word.isalpha()]\n",
        "        return ' '.join(cleaned_words)\n",
        "\n",
        "    elif isinstance(text, list):\n",
        "        text_str = ' '.join(text)  # Join list elements into a single string\n",
        "        words = text_str.split()\n",
        "        cleaned_words = [word for word in words if word.isalpha()]\n",
        "        return ' '.join(cleaned_words)\n",
        "    else:\n",
        "        return text\n",
        "df['news'] = df['news'].apply(drop_non_alphabets)\n",
        "\n",
        "def tokenize_sentence(text):\n",
        "    \"\"\"Tokenizes the sentence.\"\"\"\n",
        "    tokens = word_tokenize(text)\n",
        "    return tokens\n",
        "\n",
        "def lemmatize_text(text):\n",
        "    \"\"\"Performs lemmatization.\"\"\"\n",
        "    # Ensure the input is a string\n",
        "    if not isinstance(text, str):\n",
        "        text = str(text)  # Convert to string if not already\n",
        "\n",
        "    lemmatizer = WordNetLemmatizer()\n",
        "    tokens = word_tokenize(text)\n",
        "    lemmatized_tokens = [lemmatizer.lemmatize(token) for token in tokens]\n",
        "    return ' '.join(lemmatized_tokens)\n",
        "\n",
        "df['news'] = df['news'].apply(drop_non_alphabets)\n",
        "df['news'] = df['news'].astype(str).apply(tokenize_sentence)\n",
        "\n",
        "df['news'] = df['news'].apply(lemmatize_text)"
      ],
      "metadata": {
        "colab": {
          "base_uri": "https://localhost:8080/"
        },
        "id": "Dd6-w3dNzpy8",
        "outputId": "2c7148f2-dc27-4921-ab7d-f60389b4eafe"
      },
      "execution_count": 23,
      "outputs": [
        {
          "output_type": "stream",
          "name": "stderr",
          "text": [
            "[nltk_data] Downloading package punkt to /root/nltk_data...\n",
            "[nltk_data]   Package punkt is already up-to-date!\n",
            "[nltk_data] Downloading package wordnet to /root/nltk_data...\n",
            "[nltk_data]   Package wordnet is already up-to-date!\n",
            "[nltk_data] Downloading package punkt_tab to /root/nltk_data...\n",
            "[nltk_data]   Package punkt_tab is already up-to-date!\n"
          ]
        }
      ]
    },
    {
      "cell_type": "code",
      "source": [
        "print(df['news'][0])  # Print the first row of the 'news' column\n",
        "print(df['news'][1])  # Print the second row of the 'news' column\n",
        "# ... and so on"
      ],
      "metadata": {
        "colab": {
          "base_uri": "https://localhost:8080/"
        },
        "id": "4x-LdJm-1nlV",
        "outputId": "88bf40a8-dedb-470c-eba1-7afad757080b"
      },
      "execution_count": 24,
      "outputs": [
        {
          "output_type": "stream",
          "name": "stdout",
          "text": [
            "[ 'China ' , 'had ' , 'role ' , 'in ' , 'Yukos ' , 'China ' , 'lent ' , 'Russia ' , 'to ' , 'help ' , 'the ' , 'Russian ' , 'government ' , 'renationalise ' , 'the ' , 'key ' , 'Yuganskneftegas ' , 'unit ' , 'of ' , 'oil ' , 'group ' , 'it ' , 'has ' , 'been ' , 'The ' , 'Kremlin ' , 'said ' , 'on ' , 'Tuesday ' , 'that ' , 'the ' , 'which ' , 'Russian ' , 'state ' , 'bank ' , 'VEB ' , 'lent ' , 'Rosneft ' , 'to ' , 'help ' , 'buy ' , 'Yugansk ' , 'in ' , 'turn ' , 'came ' , 'from ' , 'Chinese ' , 'The ' , 'revelation ' , 'came ' , 'as ' , 'the ' , 'Russian ' , 'government ' , 'said ' , 'Rosneft ' , 'had ' , 'signed ' , ' a ' , 'oil ' , 'supply ' , 'deal ' , 'with ' , 'The ' , 'deal ' , 'sees ' , 'Rosneft ' , 'receive ' , 'in ' , 'credits ' , 'from ' , 'According ' , 'to ' , 'Russian ' , 'newspaper ' , 'these ' , 'credits ' , 'would ' , 'be ' , 'used ' , 'to ' , 'pay ' , 'off ' , 'the ' , 'loans ' , 'Rosneft ' , 'received ' , 'to ' , 'finance ' , 'the ' , 'purchase ' , 'of ' , 'Reports ' , 'said ' , 'CNPC ' , 'had ' , 'been ' , 'offered ' , 'of ' , 'Yugansk ' , 'in ' , 'return ' , 'for ' , 'providing ' , 'finance ' , 'but ' , 'the ' , 'company ' , 'opted ' , 'for ' , ' a ' , 'oil ' , 'supply ' , 'deal ' , 'Analysts ' , 'said ' , 'one ' , 'factor ' , 'that ' , 'might ' , 'have ' , 'influenced ' , 'the ' , 'Chinese ' , 'decision ' , 'was ' , 'the ' , 'possibility ' , 'of ' , 'litigation ' , 'from ' , 'former ' , 'if ' , 'CNPC ' , 'had ' , 'become ' , ' a ' , 'Rosneft ' , 'and ' , 'VEB ' , 'declined ' , 'to ' , 'two ' , 'companies ' , 'and ' , 'have ' , 'agreed ' , 'on ' , 'the ' , 'for ' , 'said ' , 'Russian ' , 'oil ' , 'official ' , 'Sergei ' , 'is ' , 'nothing ' , 'unusual ' , 'that ' , 'the ' , 'is ' , 'for ' , 'five ' , 'to ' , 'six ' , 'The ' , 'announcements ' , 'help ' , 'to ' , 'explain ' , 'how ' , ' a ' , 'and ' , 'relatively ' , 'unknown ' , 'was ' , 'able ' , 'to ' , 'finance ' , 'its ' , 'surprise ' , 'purchase ' , 'of ' , 'Yugansk ' , 'was ' , 'sold ' , 'for ' , 'in ' , 'an ' , 'auction ' , 'last ' , 'year ' , 'to ' , 'help ' , 'Yukos ' , 'pay ' , 'off ' , 'part ' , 'of ' , ' a ' , 'bill ' , 'in ' , 'unpaid ' , 'taxes ' , 'and ' , 'The ' , 'embattled ' , 'Russian ' , 'oil ' , 'giant ' , 'had ' , 'previously ' , 'filed ' , 'for ' , 'bankruptcy ' , 'protection ' , 'in ' , ' a ' , 'US ' , 'court ' , 'in ' , 'an ' , 'attempt ' , 'to ' , 'prevent ' , 'the ' , 'forced ' , 'sale ' , 'of ' , 'its ' , 'main ' , 'production ' , 'But ' , 'Yugansk ' , 'was ' , 'sold ' , 'to ' , ' a ' , 'little ' , 'known ' , 'shell ' , 'company ' , 'which ' , 'in ' , 'turn ' , 'was ' , 'bought ' , 'by ' , 'Yukos ' , 'claims ' , 'its ' , 'downfall ' , 'was ' , 'punishment ' , 'for ' , 'the ' , 'political ' , 'ambitions ' , 'of ' , 'its ' , 'founder ' , 'Mikhail ' , 'Once ' , 'the ' , 'richest ' , 'Mr ' , 'Khodorkovsky ' , 'is ' , 'on ' , 'trial ' , 'for ' , 'fraud ' , 'and ' , 'tax ' , 'The ' , 'deal ' , 'between ' , 'Rosneft ' , 'and ' , 'CNPC ' , 'is ' , 'seen ' , 'as ' , 'part ' , 'of ' , 'desire ' , 'to ' , 'secure ' , 'oil ' , 'supplies ' , 'to ' , 'feed ' , 'its ' , 'booming ' , 'thirst ' , 'for ' , 'products ' , 'such ' , 'as ' , 'crude ' , 'copper ' , 'and ' , 'steel ' , 'has ' , 'helped ' , 'pushed ' , 'global ' , 'commodity ' , 'prices ' , 'to ' , 'record ' , 'the ' , 'Chinese ' , 'are ' , 'trying ' , 'to ' , 'get ' , 'some ' , 'leverage ' , 'said ' , 'Dmitry ' , 'an ' , 'analyst ' , 'at ' , 'brokerage ' , 'understand ' , 'property ' , 'rights ' , 'in ' , 'Russia ' , 'are ' , 'not ' , 'the ' , 'most ' , 'important ' , 'and ' , 'they ' , 'are ' , 'more ' , 'interested ' , 'in ' , 'guaranteeing ' , 'the ' , 'price ' , 'of ' , 'oil ' , 'is ' , 'fixed ' , 'under ' , 'the ' , 'which ' , 'is ' , 'it ' , 'could ' , 'be ' , 'very ' , 'profitable ' , 'for ' , 'the ' , 'Mr ' , 'Lukashov ' , 'Rosneft ' , 'is ' , 'in ' , 'desperate ' , 'need ' , 'of ' , 'so ' , ' a ' , 'good ' , 'deal ' , 'for ' , 'them ' ]\n",
            "[ 'Oil ' , 'rebounds ' , 'from ' , 'weather ' , 'effect ' , 'Oil ' , 'prices ' , 'recovered ' , 'in ' , 'Asian ' , 'trade ' , 'on ' , 'after ' , 'falling ' , 'in ' , 'New ' , 'York ' , 'on ' , 'milder ' , 'winter ' , 'weather ' , 'across ' , 'the ' , 'With ' , 'winter ' , 'temperatures ' , 'staying ' , 'relatively ' , 'high ' , 'in ' , 'the ' , 'northern ' , ' a ' , 'barrel ' , 'of ' , 'light ' , 'crude ' , 'ended ' , 'Monday ' , 'down ' , 'to ' , 'However ' , 'crude ' , 'prices ' , 'have ' , 'rebounded ' , 'in ' , 'rising ' , 'to ' , ' a ' , 'barrel ' , 'for ' , 'February ' , 'In ' , 'trading ' , 'of ' , 'Brent ' , 'crude ' , 'was ' , 'suspended ' , 'for ' , ' a ' , 'public ' , 'but ' , 'the ' , 'price ' , 'fell ' , 'to ' , 'in ' , 'the ' , 'Far ' , 'With ' , 'milder ' , 'temperatures ' , 'expected ' , 'to ' , 'continue ' , 'in ' , 'the ' , 'northern ' , 'parts ' , 'of ' , 'the ' , 'US ' , 'over ' , 'the ' , 'next ' , 'few ' , 'days ' , 'at ' , 'analysts ' , 'have ' , 'said ' , 'the ' , 'price ' , 'of ' , 'oil ' , 'may ' , 'fall ' , 'further ' , 'even ' , 'if ' , 'the ' , 'decline ' , 'was ' , 'only ' , 'has ' , 'been ' , 'the ' , 'heel ' , 'of ' , 'this ' , 'said ' , 'ABN ' , 'AMRO ' , 'analyst ' , 'John ' , 'it ' , 'is ' , 'winter ' , 'in ' , 'the ' , 'Eventually ' , 'get ' , 'another ' , 'cold ' , 'Despite ' , ' a ' , 'fall ' , 'of ' , 'more ' , 'than ' , ' a ' , 'barrel ' , 'from ' , 'the ' , 'record ' , 'highs ' , 'reached ' , 'in ' , 'late ' , 'the ' , 'price ' , 'of ' , 'crude ' , 'oil ' , 'remains ' , 'almost ' , 'higher ' , 'than ' , 'Prices ' , 'rose ' , 'last ' , 'week ' , 'after ' , 'militant ' , 'attacks ' , 'in ' , 'the ' , 'capital ' , 'of ' , 'Saudi ' , 'briefly ' , 'renewed ' , 'fears ' , 'that ' , 'the ' , 'supply ' , 'chain ' , 'might ' , 'be ' , 'broken ' , 'in ' , 'the ' , 'leading ' , 'crude ' , 'market ' , 'was ' , 'panicked ' , 'but ' , 'fears ' , 'essentially ' , 'since ' , 'there ' , 'was ' , 'no ' , 'said ' , 'Deborah ' , 'senior ' , 'economist ' , 'for ' , 'energy ' , 'at ' , 'SG ' , 'Securities ' , 'in ' ]\n"
          ]
        }
      ]
    },
    {
      "cell_type": "markdown",
      "source": [
        "# Vectorize using bigram and trigram techniques."
      ],
      "metadata": {
        "id": "1_fFIR9q59RX"
      }
    },
    {
      "cell_type": "code",
      "source": [
        "from sklearn.feature_extraction.text import CountVectorizer\n",
        "\n",
        "def vectorize_text(text):\n",
        "    \"\"\"Vectorizes the text using bigram and trigram techniques.\"\"\"\n",
        "    vectorizer = CountVectorizer(ngram_range=(2, 3))  # Consider bigrams and trigrams\n",
        "    vectorized_text = vectorizer.fit_transform(text)\n",
        "    return vectorized_text, vectorizer\n",
        "\n",
        "X, vectorizer = vectorize_text(df['news'])"
      ],
      "metadata": {
        "id": "izBJ3Rk03qDC"
      },
      "execution_count": 27,
      "outputs": []
    },
    {
      "cell_type": "code",
      "source": [
        "\n",
        "print(X.shape)\n",
        "print(vectorizer.get_feature_names_out()[:20])"
      ],
      "metadata": {
        "colab": {
          "base_uri": "https://localhost:8080/"
        },
        "id": "3n9KlAae4Kxp",
        "outputId": "fa09e9cd-3dbe-4905-d9ca-041cb347ee76"
      },
      "execution_count": 28,
      "outputs": [
        {
          "output_type": "stream",
          "name": "stdout",
          "text": [
            "(2225, 784844)\n",
            "['aa motoring' 'aa motoring trust' 'aaa and' 'aaa and second'\n",
            " 'aaa battery' 'aaa battery is' 'aaa champion' 'aaa champion diane'\n",
            " 'aaa indoor' 'aaa indoor and' 'aaa title' 'aaa title in' 'aaas am'\n",
            " 'aaas am quite' 'aaas association' 'aaas association for' 'aaas champion'\n",
            " 'aaas champion allyn' 'aaas champion kim' 'aaas indoor']\n"
          ]
        }
      ]
    },
    {
      "cell_type": "markdown",
      "source": [
        "# Apply Random Forest algorithm with 150 trees."
      ],
      "metadata": {
        "id": "okG8Jj2Q509W"
      }
    },
    {
      "cell_type": "code",
      "source": [
        "from sklearn.ensemble import RandomForestClassifier\n",
        "from sklearn.model_selection import train_test_split\n",
        "from sklearn.metrics import accuracy_score, confusion_matrix, classification_report\n",
        "from sklearn.feature_extraction.text import TfidfVectorizer\n",
        "\n",
        "\n",
        "X = df['news']\n",
        "y = df['type']\n",
        "\n",
        "\n",
        "vectorizer = CountVectorizer(ngram_range=(2, 3))  # Consider bigrams and trigrams\n",
        "\n",
        "X = vectorizer.fit_transform(X)\n",
        "\n",
        "\n",
        "X_train, X_test, y_train, y_test = train_test_split(X, y, test_size=0.2, random_state=42)\n",
        "\n",
        "\n",
        "rf_classifier = RandomForestClassifier(n_estimators=150, random_state=42)\n",
        "rf_classifier.fit(X_train, y_train)\n",
        "\n",
        "y_pred = rf_classifier.predict(X_test)\n",
        "\n",
        "\n"
      ],
      "metadata": {
        "id": "k0XIwDSp4ZNi"
      },
      "execution_count": 33,
      "outputs": []
    },
    {
      "cell_type": "markdown",
      "source": [
        "# Evaluate overall accuracy of the model and class-wise precision / classification report\n",
        "."
      ],
      "metadata": {
        "id": "R4s5C16m5uja"
      }
    },
    {
      "cell_type": "code",
      "source": [
        "accuracy = accuracy_score(y_test, y_pred)\n",
        "conf_matrix = confusion_matrix(y_test, y_pred)\n",
        "class_report = classification_report(y_test, y_pred)\n",
        "\n",
        "\n",
        "print(f\"Accuracy: {accuracy}\")\n",
        "print(f\"Confusion Matrix:\\n{conf_matrix}\")\n",
        "print(f\"Classification Report:\\n{class_report}\")"
      ],
      "metadata": {
        "colab": {
          "base_uri": "https://localhost:8080/"
        },
        "id": "9fZtW_EG5tfb",
        "outputId": "69f8d621-066b-4d9b-a9e8-97f367931344"
      },
      "execution_count": 34,
      "outputs": [
        {
          "output_type": "stream",
          "name": "stdout",
          "text": [
            "Accuracy: 0.8449438202247191\n",
            "Confusion Matrix:\n",
            "[[107   0   2   5   1]\n",
            " [  8  40   0  23   1]\n",
            " [  3   0  64   8   1]\n",
            " [  0   0   0 102   0]\n",
            " [ 12   1   0   4  63]]\n",
            "Classification Report:\n",
            "               precision    recall  f1-score   support\n",
            "\n",
            "     business       0.82      0.93      0.87       115\n",
            "entertainment       0.98      0.56      0.71        72\n",
            "     politics       0.97      0.84      0.90        76\n",
            "        sport       0.72      1.00      0.84       102\n",
            "         tech       0.95      0.79      0.86        80\n",
            "\n",
            "     accuracy                           0.84       445\n",
            "    macro avg       0.89      0.82      0.84       445\n",
            " weighted avg       0.87      0.84      0.84       445\n",
            "\n"
          ]
        }
      ]
    },
    {
      "cell_type": "markdown",
      "source": [
        "Perform following tasks on the provided Reviews Dataset.\n",
        "* Drop words if not alphabets.\n",
        "* Tokenize the sentence.\n",
        "* Perform lemitization.\n",
        "* Vectorize using bigram and trigram techniques.\n",
        "* Apply Random Forest algorithm with 150 trees.\n",
        "* Evaluate overall accuracy of the model and class-wise precision ."
      ],
      "metadata": {
        "id": "m5VxQWNuli1L"
      }
    }
  ]
}